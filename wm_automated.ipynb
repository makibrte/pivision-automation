{
 "cells": [
  {
   "cell_type": "code",
   "execution_count": 7,
   "metadata": {},
   "outputs": [
    {
     "name": "stderr",
     "output_type": "stream",
     "text": [
      "/tmp/ipykernel_954007/202661679.py:15: DtypeWarning: Columns (2) have mixed types. Specify dtype option on import or set low_memory=False.\n",
      "  df = pd.read_csv(f\"meters_csv/{sample_loc_lookup.loc[sample_loc_lookup['building'] == b, 'filename'].iloc[0]}\")\n",
      "/tmp/ipykernel_954007/202661679.py:15: DtypeWarning: Columns (2) have mixed types. Specify dtype option on import or set low_memory=False.\n",
      "  df = pd.read_csv(f\"meters_csv/{sample_loc_lookup.loc[sample_loc_lookup['building'] == b, 'filename'].iloc[0]}\")\n",
      "/tmp/ipykernel_954007/202661679.py:15: DtypeWarning: Columns (2) have mixed types. Specify dtype option on import or set low_memory=False.\n",
      "  df = pd.read_csv(f\"meters_csv/{sample_loc_lookup.loc[sample_loc_lookup['building'] == b, 'filename'].iloc[0]}\")\n",
      "/tmp/ipykernel_954007/202661679.py:15: DtypeWarning: Columns (2) have mixed types. Specify dtype option on import or set low_memory=False.\n",
      "  df = pd.read_csv(f\"meters_csv/{sample_loc_lookup.loc[sample_loc_lookup['building'] == b, 'filename'].iloc[0]}\")\n",
      "/tmp/ipykernel_954007/202661679.py:15: DtypeWarning: Columns (2) have mixed types. Specify dtype option on import or set low_memory=False.\n",
      "  df = pd.read_csv(f\"meters_csv/{sample_loc_lookup.loc[sample_loc_lookup['building'] == b, 'filename'].iloc[0]}\")\n",
      "/tmp/ipykernel_954007/202661679.py:15: DtypeWarning: Columns (2) have mixed types. Specify dtype option on import or set low_memory=False.\n",
      "  df = pd.read_csv(f\"meters_csv/{sample_loc_lookup.loc[sample_loc_lookup['building'] == b, 'filename'].iloc[0]}\")\n",
      "/tmp/ipykernel_954007/202661679.py:15: DtypeWarning: Columns (2) have mixed types. Specify dtype option on import or set low_memory=False.\n",
      "  df = pd.read_csv(f\"meters_csv/{sample_loc_lookup.loc[sample_loc_lookup['building'] == b, 'filename'].iloc[0]}\")\n",
      "/tmp/ipykernel_954007/202661679.py:15: DtypeWarning: Columns (2) have mixed types. Specify dtype option on import or set low_memory=False.\n",
      "  df = pd.read_csv(f\"meters_csv/{sample_loc_lookup.loc[sample_loc_lookup['building'] == b, 'filename'].iloc[0]}\")\n",
      "/tmp/ipykernel_954007/202661679.py:15: DtypeWarning: Columns (3) have mixed types. Specify dtype option on import or set low_memory=False.\n",
      "  df = pd.read_csv(f\"meters_csv/{sample_loc_lookup.loc[sample_loc_lookup['building'] == b, 'filename'].iloc[0]}\")\n",
      "/tmp/ipykernel_954007/202661679.py:15: DtypeWarning: Columns (2) have mixed types. Specify dtype option on import or set low_memory=False.\n",
      "  df = pd.read_csv(f\"meters_csv/{sample_loc_lookup.loc[sample_loc_lookup['building'] == b, 'filename'].iloc[0]}\")\n",
      "/tmp/ipykernel_954007/202661679.py:15: DtypeWarning: Columns (2) have mixed types. Specify dtype option on import or set low_memory=False.\n",
      "  df = pd.read_csv(f\"meters_csv/{sample_loc_lookup.loc[sample_loc_lookup['building'] == b, 'filename'].iloc[0]}\")\n"
     ]
    },
    {
     "ename": "ValueError",
     "evalue": "Length mismatch: Expected axis has 4 elements, new values have 16 elements",
     "output_type": "error",
     "traceback": [
      "\u001b[0;31m---------------------------------------------------------------------------\u001b[0m",
      "\u001b[0;31mValueError\u001b[0m                                Traceback (most recent call last)",
      "Cell \u001b[0;32mIn[7], line 40\u001b[0m\n\u001b[1;32m     38\u001b[0m \u001b[39m# Fix the column names assignment\u001b[39;00m\n\u001b[1;32m     39\u001b[0m columns \u001b[39m=\u001b[39m [\u001b[39m\"\u001b[39m\u001b[39mdate\u001b[39m\u001b[39m\"\u001b[39m] \u001b[39m+\u001b[39m sample_locs\u001b[39m.\u001b[39mtolist()\n\u001b[0;32m---> 40\u001b[0m volume_daily\u001b[39m.\u001b[39;49mcolumns \u001b[39m=\u001b[39m columns\n\u001b[1;32m     42\u001b[0m volume_daily \u001b[39m=\u001b[39m volume_daily\u001b[39m.\u001b[39mmelt(id_vars\u001b[39m=\u001b[39m\u001b[39m\"\u001b[39m\u001b[39mdate\u001b[39m\u001b[39m\"\u001b[39m, var_name\u001b[39m=\u001b[39m\u001b[39m\"\u001b[39m\u001b[39msample_loc\u001b[39m\u001b[39m\"\u001b[39m, value_name\u001b[39m=\u001b[39m\u001b[39m\"\u001b[39m\u001b[39mvol_daily\u001b[39m\u001b[39m\"\u001b[39m)\n\u001b[1;32m     43\u001b[0m volume_daily\u001b[39m.\u001b[39mto_csv(\u001b[39m\"\u001b[39m\u001b[39mtest.csv\u001b[39m\u001b[39m\"\u001b[39m, index\u001b[39m=\u001b[39m\u001b[39mFalse\u001b[39;00m)\n",
      "File \u001b[0;32m~/.local/lib/python3.10/site-packages/pandas/core/generic.py:5915\u001b[0m, in \u001b[0;36mNDFrame.__setattr__\u001b[0;34m(self, name, value)\u001b[0m\n\u001b[1;32m   5913\u001b[0m \u001b[39mtry\u001b[39;00m:\n\u001b[1;32m   5914\u001b[0m     \u001b[39mobject\u001b[39m\u001b[39m.\u001b[39m\u001b[39m__getattribute__\u001b[39m(\u001b[39mself\u001b[39m, name)\n\u001b[0;32m-> 5915\u001b[0m     \u001b[39mreturn\u001b[39;00m \u001b[39mobject\u001b[39;49m\u001b[39m.\u001b[39;49m\u001b[39m__setattr__\u001b[39;49m(\u001b[39mself\u001b[39;49m, name, value)\n\u001b[1;32m   5916\u001b[0m \u001b[39mexcept\u001b[39;00m \u001b[39mAttributeError\u001b[39;00m:\n\u001b[1;32m   5917\u001b[0m     \u001b[39mpass\u001b[39;00m\n",
      "File \u001b[0;32m~/.local/lib/python3.10/site-packages/pandas/_libs/properties.pyx:69\u001b[0m, in \u001b[0;36mpandas._libs.properties.AxisProperty.__set__\u001b[0;34m()\u001b[0m\n",
      "File \u001b[0;32m~/.local/lib/python3.10/site-packages/pandas/core/generic.py:823\u001b[0m, in \u001b[0;36mNDFrame._set_axis\u001b[0;34m(self, axis, labels)\u001b[0m\n\u001b[1;32m    821\u001b[0m \u001b[39mdef\u001b[39;00m \u001b[39m_set_axis\u001b[39m(\u001b[39mself\u001b[39m, axis: \u001b[39mint\u001b[39m, labels: AnyArrayLike \u001b[39m|\u001b[39m \u001b[39mlist\u001b[39m) \u001b[39m-\u001b[39m\u001b[39m>\u001b[39m \u001b[39mNone\u001b[39;00m:\n\u001b[1;32m    822\u001b[0m     labels \u001b[39m=\u001b[39m ensure_index(labels)\n\u001b[0;32m--> 823\u001b[0m     \u001b[39mself\u001b[39;49m\u001b[39m.\u001b[39;49m_mgr\u001b[39m.\u001b[39;49mset_axis(axis, labels)\n\u001b[1;32m    824\u001b[0m     \u001b[39mself\u001b[39m\u001b[39m.\u001b[39m_clear_item_cache()\n",
      "File \u001b[0;32m~/.local/lib/python3.10/site-packages/pandas/core/internals/managers.py:230\u001b[0m, in \u001b[0;36mBaseBlockManager.set_axis\u001b[0;34m(self, axis, new_labels)\u001b[0m\n\u001b[1;32m    228\u001b[0m \u001b[39mdef\u001b[39;00m \u001b[39mset_axis\u001b[39m(\u001b[39mself\u001b[39m, axis: \u001b[39mint\u001b[39m, new_labels: Index) \u001b[39m-\u001b[39m\u001b[39m>\u001b[39m \u001b[39mNone\u001b[39;00m:\n\u001b[1;32m    229\u001b[0m     \u001b[39m# Caller is responsible for ensuring we have an Index object.\u001b[39;00m\n\u001b[0;32m--> 230\u001b[0m     \u001b[39mself\u001b[39;49m\u001b[39m.\u001b[39;49m_validate_set_axis(axis, new_labels)\n\u001b[1;32m    231\u001b[0m     \u001b[39mself\u001b[39m\u001b[39m.\u001b[39maxes[axis] \u001b[39m=\u001b[39m new_labels\n",
      "File \u001b[0;32m~/.local/lib/python3.10/site-packages/pandas/core/internals/base.py:70\u001b[0m, in \u001b[0;36mDataManager._validate_set_axis\u001b[0;34m(self, axis, new_labels)\u001b[0m\n\u001b[1;32m     67\u001b[0m     \u001b[39mpass\u001b[39;00m\n\u001b[1;32m     69\u001b[0m \u001b[39melif\u001b[39;00m new_len \u001b[39m!=\u001b[39m old_len:\n\u001b[0;32m---> 70\u001b[0m     \u001b[39mraise\u001b[39;00m \u001b[39mValueError\u001b[39;00m(\n\u001b[1;32m     71\u001b[0m         \u001b[39mf\u001b[39m\u001b[39m\"\u001b[39m\u001b[39mLength mismatch: Expected axis has \u001b[39m\u001b[39m{\u001b[39;00mold_len\u001b[39m}\u001b[39;00m\u001b[39m elements, new \u001b[39m\u001b[39m\"\u001b[39m\n\u001b[1;32m     72\u001b[0m         \u001b[39mf\u001b[39m\u001b[39m\"\u001b[39m\u001b[39mvalues have \u001b[39m\u001b[39m{\u001b[39;00mnew_len\u001b[39m}\u001b[39;00m\u001b[39m elements\u001b[39m\u001b[39m\"\u001b[39m\n\u001b[1;32m     73\u001b[0m     )\n",
      "\u001b[0;31mValueError\u001b[0m: Length mismatch: Expected axis has 4 elements, new values have 16 elements"
     ]
    }
   ],
   "source": [
    "import pandas as pd\n",
    "import numpy as np\n",
    "from pathlib import Path\n",
    "\n",
    "sample_loc_lookup = pd.read_csv(\"helper_data/bldg_to_sampleloc.csv\")\n",
    "sample_locs = sample_loc_lookup[\"sample_loc_alpha\"].unique()\n",
    "\n",
    "dfs = []\n",
    "\n",
    "for s in sample_locs:\n",
    "    bldg_locs = sample_loc_lookup.loc[sample_loc_lookup[\"sample_loc_alpha\"] == s, \"building\"]\n",
    "\n",
    "    x = None\n",
    "    for b in bldg_locs:\n",
    "        df = pd.read_csv(f\"meters_csv/{sample_loc_lookup.loc[sample_loc_lookup['building'] == b, 'filename'].iloc[0]}\")\n",
    "        df = df[df[\"Good\"] == \"TRUE\"]\n",
    "        df[\"timestamp\"] = pd.to_datetime(df[\"Timestamp\"]).dt.round(\"min\")\n",
    "        df[\"volume\"] = df[\"Value\"].astype(float)\n",
    "        df = df.drop_duplicates(subset=\"volume\")\n",
    "        df[\"date\"] = df[\"timestamp\"].dt.date\n",
    "        \n",
    "        if s in [\"PU\", \"PL\"]:\n",
    "            df[\"d_volume\"] = df[\"volume\"].diff().fillna(0)\n",
    "            df = df[df[\"d_volume\"] == 1]\n",
    "        \n",
    "        df = df.groupby(\"date\")[\"volume\"].agg([\"min\", \"max\"])\n",
    "        df[\"daily_vol\"] = df[\"max\"] - df[\"min\"]\n",
    "        \n",
    "        if x is None:\n",
    "            x = df\n",
    "        else:\n",
    "            x[\"daily_vol\"] += df[\"daily_vol\"]\n",
    "\n",
    "    dfs.append(x.reset_index())\n",
    "\n",
    "volume_daily = pd.concat(dfs, axis=0).reset_index(drop=True)\n",
    "\n",
    "# Fix the column names assignment\n",
    "columns = [\"date\"] + sample_locs.tolist()\n",
    "volume_daily.columns = columns\n",
    "\n",
    "volume_daily = volume_daily.melt(id_vars=\"date\", var_name=\"sample_loc\", value_name=\"vol_daily\")\n",
    "volume_daily.to_csv(\"test.csv\", index=False)\n"
   ]
  },
  {
   "cell_type": "code",
   "execution_count": null,
   "metadata": {},
   "outputs": [],
   "source": []
  }
 ],
 "metadata": {
  "kernelspec": {
   "display_name": "Python 3",
   "language": "python",
   "name": "python3"
  },
  "language_info": {
   "codemirror_mode": {
    "name": "ipython",
    "version": 3
   },
   "file_extension": ".py",
   "mimetype": "text/x-python",
   "name": "python",
   "nbconvert_exporter": "python",
   "pygments_lexer": "ipython3",
   "version": "3.10.6"
  },
  "orig_nbformat": 4
 },
 "nbformat": 4,
 "nbformat_minor": 2
}
